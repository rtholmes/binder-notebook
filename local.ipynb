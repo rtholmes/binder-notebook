{
 "cells": [
  {
   "cell_type": "code",
   "execution_count": 1,
   "id": "silver-shipping",
   "metadata": {},
   "outputs": [
    {
     "name": "stdout",
     "output_type": "stream",
     "text": [
      "hello world\n"
     ]
    }
   ],
   "source": [
    "console.log('hello world')"
   ]
  },
  {
   "cell_type": "markdown",
   "id": "mental-billy",
   "metadata": {},
   "source": [
    "# Trying out TypeScript in a Jupyter Notebook\n",
    "\n",
    "* check output\n",
    "* and type checking\n",
    "* and library imports / remote access\n",
    "\n",
    "Can put highlighted code in markdown too:\n",
    "\n",
    "```typescript\n",
    "const a = 'foo';\n",
    "console.log(a);\n",
    "```"
   ]
  },
  {
   "cell_type": "code",
   "execution_count": 2,
   "id": "sealed-bangkok",
   "metadata": {},
   "outputs": [
    {
     "name": "stdout",
     "output_type": "stream",
     "text": [
      "ahhhhhhhhhh\n"
     ]
    }
   ],
   "source": [
    "let word = 'a';\n",
    "for (let i = 0; i < 10; i++){\n",
    "    word += 'h';\n",
    "}\n",
    "console.log(word);"
   ]
  },
  {
   "cell_type": "code",
   "execution_count": 3,
   "id": "solid-calendar",
   "metadata": {},
   "outputs": [
    {
     "name": "stdout",
     "output_type": "stream",
     "text": [
      "\u001b[33m5\u001b[39m\n"
     ]
    }
   ],
   "source": [
    "let num = 4;\n",
    "num++;"
   ]
  },
  {
   "cell_type": "code",
   "execution_count": 4,
   "id": "descending-range",
   "metadata": {},
   "outputs": [
    {
     "name": "stderr",
     "output_type": "stream",
     "text": [
      "3:1 - Type 'number' is not assignable to type 'string'.\n"
     ]
    }
   ],
   "source": [
    "// check the compiler\n",
    "let str = 'str';\n",
    "str = 4;"
   ]
  },
  {
   "cell_type": "markdown",
   "id": "alpha-settlement",
   "metadata": {},
   "source": [
    "# Working with libraries"
   ]
  },
  {
   "cell_type": "code",
   "execution_count": null,
   "id": "premium-stanley",
   "metadata": {
    "scrolled": true
   },
   "outputs": [],
   "source": [
    "import fetch from 'node-fetch';\n",
    "import gpxParser from 'gpxparser';\n",
    "\n",
    "const response = await fetch('https://raw.githubusercontent.com/gps-touring/sample-gpx/master/BrittanyJura/Dole_Langres.gpx');\n",
    "const gpxText = await response.text();\n",
    "\n",
    "var gpx = new gpxParser(); \n",
    "gpx.parse(gpxText);\n",
    "\n",
    "console.log(\"# tracks: \"+gpx.tracks.length);"
   ]
  },
  {
   "cell_type": "markdown",
   "id": "wrapped-coast",
   "metadata": {},
   "source": [
    "# variables flow between blocks!"
   ]
  },
  {
   "cell_type": "code",
   "execution_count": null,
   "id": "formal-endorsement",
   "metadata": {},
   "outputs": [],
   "source": [
    "var totalDistance = gpx.tracks[0].distance.total;\n",
    "console.log(\"total distance: \"+totalDistance.toFixed(2)+' m');\n",
    "\n",
    "console.log(gpx.toGeoJSON())"
   ]
  },
  {
   "cell_type": "markdown",
   "id": "guilty-fleece",
   "metadata": {},
   "source": [
    "# try d3\n",
    "\n",
    "This is just too complicated, find an easier charting lib that can generate SVG or images (aka no `window` access). "
   ]
  },
  {
   "cell_type": "code",
   "execution_count": 12,
   "id": "trying-lesson",
   "metadata": {},
   "outputs": [
    {
     "data": {
      "text/html": [
       "<svg xmlns=\"http://www.w3.org/2000/svg\" width=\"960\" height=\"500\"><g transform=\"translate(30,10)\"><g class=\"bar\" transform=\"translate(0,460)\"><rect x=\"1\" width=\"44\" height=\"0\"></rect><text dy=\".75em\" y=\"6\" x=\"22.5\" text-anchor=\"middle\">0</text></g><g class=\"bar\" transform=\"translate(45,460)\"><rect x=\"1\" width=\"44\" height=\"0\"></rect><text dy=\".75em\" y=\"6\" x=\"22.5\" text-anchor=\"middle\">0</text></g><g class=\"bar\" transform=\"translate(90,460)\"><rect x=\"1\" width=\"44\" height=\"0\"></rect><text dy=\".75em\" y=\"6\" x=\"22.5\" text-anchor=\"middle\">0</text></g><g class=\"bar\" transform=\"translate(135,460)\"><rect x=\"1\" width=\"44\" height=\"0\"></rect><text dy=\".75em\" y=\"6\" x=\"22.5\" text-anchor=\"middle\">0</text></g><g class=\"bar\" transform=\"translate(180,453.69863013698625)\"><rect x=\"1\" width=\"44\" height=\"6.301369863013747\"></rect><text dy=\".75em\" y=\"6\" x=\"22.5\" text-anchor=\"middle\">3</text></g><g class=\"bar\" transform=\"translate(225,426.39269406392697)\"><rect x=\"1\" width=\"44\" height=\"33.60730593607303\"></rect><text dy=\".75em\" y=\"6\" x=\"22.5\" text-anchor=\"middle\">16</text></g><g class=\"bar\" transform=\"translate(270,373.8812785388128)\"><rect x=\"1\" width=\"44\" height=\"86.11872146118719\"></rect><text dy=\".75em\" y=\"6\" x=\"22.5\" text-anchor=\"middle\">41</text></g><g class=\"bar\" transform=\"translate(315,300.365296803653)\"><rect x=\"1\" width=\"44\" height=\"159.634703196347\"></rect><text dy=\".75em\" y=\"6\" x=\"22.5\" text-anchor=\"middle\">76</text></g><g class=\"bar\" transform=\"translate(360,157.53424657534248)\"><rect x=\"1\" width=\"44\" height=\"302.4657534246575\"></rect><text dy=\".75em\" y=\"6\" x=\"22.5\" text-anchor=\"middle\">144</text></g><g class=\"bar\" transform=\"translate(405,0)\"><rect x=\"1\" width=\"44\" height=\"460\"></rect><text dy=\".75em\" y=\"6\" x=\"22.5\" text-anchor=\"middle\">219</text></g><g class=\"bar\" transform=\"translate(450,21.00456621004566)\"><rect x=\"1\" width=\"44\" height=\"438.99543378995435\"></rect><text dy=\".75em\" y=\"6\" x=\"22.5\" text-anchor=\"middle\">209</text></g><g class=\"bar\" transform=\"translate(495,140.73059360730596)\"><rect x=\"1\" width=\"44\" height=\"319.269406392694\"></rect><text dy=\".75em\" y=\"6\" x=\"22.5\" text-anchor=\"middle\">152</text></g><g class=\"bar\" transform=\"translate(540,264.6575342465754)\"><rect x=\"1\" width=\"44\" height=\"195.34246575342462\"></rect><text dy=\".75em\" y=\"6\" x=\"22.5\" text-anchor=\"middle\">93</text></g><g class=\"bar\" transform=\"translate(585,384.3835616438356)\"><rect x=\"1\" width=\"44\" height=\"75.6164383561644\"></rect><text dy=\".75em\" y=\"6\" x=\"22.5\" text-anchor=\"middle\">36</text></g><g class=\"bar\" transform=\"translate(630,438.99543378995435)\"><rect x=\"1\" width=\"44\" height=\"21.004566210045652\"></rect><text dy=\".75em\" y=\"6\" x=\"22.5\" text-anchor=\"middle\">10</text></g><g class=\"bar\" transform=\"translate(675,457.8995433789955)\"><rect x=\"1\" width=\"44\" height=\"2.1004566210045255\"></rect><text dy=\".75em\" y=\"6\" x=\"22.5\" text-anchor=\"middle\">1</text></g><g class=\"bar\" transform=\"translate(720,460)\"><rect x=\"1\" width=\"44\" height=\"0\"></rect><text dy=\".75em\" y=\"6\" x=\"22.5\" text-anchor=\"middle\">0</text></g><g class=\"bar\" transform=\"translate(765,460)\"><rect x=\"1\" width=\"44\" height=\"0\"></rect><text dy=\".75em\" y=\"6\" x=\"22.5\" text-anchor=\"middle\">0</text></g><g class=\"bar\" transform=\"translate(810,460)\"><rect x=\"1\" width=\"44\" height=\"0\"></rect><text dy=\".75em\" y=\"6\" x=\"22.5\" text-anchor=\"middle\">0</text></g><g class=\"bar\" transform=\"translate(855,460)\"><rect x=\"1\" width=\"44\" height=\"0\"></rect><text dy=\".75em\" y=\"6\" x=\"22.5\" text-anchor=\"middle\">0</text></g><g class=\"bar\" transform=\"translate(900,460)\"><rect x=\"1\" width=\"44\" height=\"0\"></rect><text dy=\".75em\" y=\"6\" x=\"22.5\" text-anchor=\"middle\">0</text></g><g class=\"axis axis--x\" transform=\"translate(0,460)\" fill=\"none\" font-size=\"10\" font-family=\"sans-serif\" text-anchor=\"middle\"><path class=\"domain\" stroke=\"currentColor\" d=\"M0.5,6V0.5H900.5V6\"></path><g class=\"tick\" opacity=\"1\" transform=\"translate(0.5,0)\"><line stroke=\"currentColor\" y2=\"6\"></line><text fill=\"currentColor\" y=\"9\" dy=\"0.71em\">0.0</text></g><g class=\"tick\" opacity=\"1\" transform=\"translate(90.5,0)\"><line stroke=\"currentColor\" y2=\"6\"></line><text fill=\"currentColor\" y=\"9\" dy=\"0.71em\">0.1</text></g><g class=\"tick\" opacity=\"1\" transform=\"translate(180.5,0)\"><line stroke=\"currentColor\" y2=\"6\"></line><text fill=\"currentColor\" y=\"9\" dy=\"0.71em\">0.2</text></g><g class=\"tick\" opacity=\"1\" transform=\"translate(270.5,0)\"><line stroke=\"currentColor\" y2=\"6\"></line><text fill=\"currentColor\" y=\"9\" dy=\"0.71em\">0.3</text></g><g class=\"tick\" opacity=\"1\" transform=\"translate(360.5,0)\"><line stroke=\"currentColor\" y2=\"6\"></line><text fill=\"currentColor\" y=\"9\" dy=\"0.71em\">0.4</text></g><g class=\"tick\" opacity=\"1\" transform=\"translate(450.5,0)\"><line stroke=\"currentColor\" y2=\"6\"></line><text fill=\"currentColor\" y=\"9\" dy=\"0.71em\">0.5</text></g><g class=\"tick\" opacity=\"1\" transform=\"translate(540.5,0)\"><line stroke=\"currentColor\" y2=\"6\"></line><text fill=\"currentColor\" y=\"9\" dy=\"0.71em\">0.6</text></g><g class=\"tick\" opacity=\"1\" transform=\"translate(630.5,0)\"><line stroke=\"currentColor\" y2=\"6\"></line><text fill=\"currentColor\" y=\"9\" dy=\"0.71em\">0.7</text></g><g class=\"tick\" opacity=\"1\" transform=\"translate(720.5,0)\"><line stroke=\"currentColor\" y2=\"6\"></line><text fill=\"currentColor\" y=\"9\" dy=\"0.71em\">0.8</text></g><g class=\"tick\" opacity=\"1\" transform=\"translate(810.5,0)\"><line stroke=\"currentColor\" y2=\"6\"></line><text fill=\"currentColor\" y=\"9\" dy=\"0.71em\">0.9</text></g><g class=\"tick\" opacity=\"1\" transform=\"translate(900.5,0)\"><line stroke=\"currentColor\" y2=\"6\"></line><text fill=\"currentColor\" y=\"9\" dy=\"0.71em\">1.0</text></g></g></g></svg>"
      ]
     },
     "metadata": {},
     "output_type": "display_data"
    }
   ],
   "source": [
    "import * as tslab from 'tslab';\n",
    "import D3Node from 'd3-node';\n",
    "\n",
    "\n",
    "const d3 = require('d3')\n",
    "\n",
    "const styles = `\n",
    ".bar rect {\n",
    "  fill: steelblue;\n",
    "}\n",
    ".bar text {\n",
    "  fill: #fff;\n",
    "  font: 10px sans-serif;\n",
    "}`\n",
    "\n",
    "var options = {\n",
    "  svgStyles: styles,\n",
    "  d3Module: d3\n",
    "}\n",
    "\n",
    "var d3n = new D3Node()\n",
    "\n",
    "// from https://bl.ocks.org/mbostock/3048450\n",
    "var data = d3.range(1000).map(d3.randomBates(10))\n",
    "\n",
    "var formatCount = d3.format(',.0f')\n",
    "\n",
    "var margin = {top: 10, right: 30, bottom: 30, left: 30}\n",
    "var width = 960 - margin.left - margin.right\n",
    "var height = 500 - margin.top - margin.bottom\n",
    "\n",
    "var x = d3.scaleLinear()\n",
    "  .rangeRound([0, width])\n",
    "\n",
    "var bins = d3.histogram()\n",
    "  .domain(x.domain())\n",
    "  .thresholds(x.ticks(20))(data)\n",
    "\n",
    "var y = d3.scaleLinear()\n",
    "  .domain([0, d3.max(bins, function (d) { return d.length })])\n",
    "  .range([height, 0])\n",
    "\n",
    "const svgWidth = width + margin.left + margin.right\n",
    "const svgHeight = height + margin.top + margin.bottom\n",
    "\n",
    "var svg = d3n.createSVG(svgWidth, svgHeight)\n",
    "  .append('g')\n",
    "  .attr('transform', 'translate(' + margin.left + ',' + margin.top + ')')\n",
    "\n",
    "var bar = svg.selectAll('.bar')\n",
    "  .data(bins)\n",
    "  .enter().append('g')\n",
    "  .attr('class', 'bar')\n",
    "  .attr('transform', function (d) { return 'translate(' + x(d.x0) + ',' + y(d.length) + ')' })\n",
    "\n",
    "bar.append('rect')\n",
    "  .attr('x', 1)\n",
    "  .attr('width', x(bins[0].x1) - x(bins[0].x0) - 1)\n",
    "  .attr('height', function (d) { return height - y(d.length) })\n",
    "\n",
    "bar.append('text')\n",
    "  .attr('dy', '.75em')\n",
    "  .attr('y', 6)\n",
    "  .attr('x', (x(bins[0].x1) - x(bins[0].x0)) / 2)\n",
    "  .attr('text-anchor', 'middle')\n",
    "  .text(function (d) { return formatCount(d.length) })\n",
    "\n",
    "svg.append('g')\n",
    "  .attr('class', 'axis axis--x')\n",
    "  .attr('transform', 'translate(0,' + height + ')')\n",
    "  .call(d3.axisBottom(x))\n",
    "\n",
    "// create output files\n",
    "// require('./lib/output')('histogram', d3n)\n",
    "tslab.display.html(d3n.svgString())"
   ]
  },
  {
   "cell_type": "code",
   "execution_count": null,
   "id": "square-advocacy",
   "metadata": {},
   "outputs": [],
   "source": []
  }
 ],
 "metadata": {
  "kernelspec": {
   "display_name": "TypeScript",
   "language": "typescript",
   "name": "tslab"
  },
  "language_info": {
   "codemirror_mode": {
    "mode": "typescript",
    "name": "javascript",
    "typescript": true
   },
   "file_extension": ".ts",
   "mimetype": "text/typescript",
   "name": "typescript",
   "version": "3.7.2"
  }
 },
 "nbformat": 4,
 "nbformat_minor": 5
}
